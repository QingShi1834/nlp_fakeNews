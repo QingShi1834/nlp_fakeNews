{
 "metadata": {
  "kernelspec": {
   "language": "python",
   "display_name": "Python 3",
   "name": "python3"
  },
  "language_info": {
   "name": "python",
   "version": "3.7.12",
   "mimetype": "text/x-python",
   "codemirror_mode": {
    "name": "ipython",
    "version": 3
   },
   "pygments_lexer": "ipython3",
   "nbconvert_exporter": "python",
   "file_extension": ".py"
  },
  "kaggle": {
   "accelerator": "none",
   "dataSources": [
    {
     "sourceId": 8317,
     "databundleVersionId": 109592,
     "sourceType": "competition"
    }
   ],
   "dockerImageVersionId": 30157,
   "isInternetEnabled": false,
   "language": "python",
   "sourceType": "notebook",
   "isGpuEnabled": false
  }
 },
 "nbformat_minor": 4,
 "nbformat": 4,
 "cells": [
  {
   "cell_type": "code",
   "source": "# This Python 3 environment comes with many helpful analytics libraries installed\n# It is defined by the kaggle/python Docker image: https://github.com/kaggle/docker-python\n# For example, here's several helpful packages to load\n\nimport numpy as np # linear algebra\nimport pandas as pd # data processing, CSV file I/O (e.g. pd.read_csv)\n\n# Input data files are available in the read-only \"../input/\" directory\n# For example, running this (by clicking run or pressing Shift+Enter) will list all files under the input directory\n\nimport os\nfor dirname, _, filenames in os.walk('/kaggle/input'):\n    for filename in filenames:\n        print(os.path.join(dirname, filename))\n\n# You can write up to 20GB to the current directory (/kaggle/working/) that gets preserved as output when you create a version using \"Save & Run All\" \n# You can also write temporary files to /kaggle/temp/, but they won't be saved outside of the current session",
   "metadata": {
    "_uuid": "8f2839f25d086af736a60e9eeb907d3b93b6e0e5",
    "_cell_guid": "b1076dfc-b9ad-4769-8c92-a6c4dae69d19",
    "_kg_hide-input": true,
    "_kg_hide-output": true,
    "execution": {
     "iopub.status.busy": "2024-05-11T12:48:57.874514Z",
     "iopub.execute_input": "2024-05-11T12:48:57.875283Z",
     "iopub.status.idle": "2024-05-11T12:48:57.909188Z",
     "shell.execute_reply.started": "2024-05-11T12:48:57.875172Z",
     "shell.execute_reply": "2024-05-11T12:48:57.908316Z"
    },
    "trusted": true
   },
   "execution_count": 1,
   "outputs": [
    {
     "name": "stdout",
     "text": "/kaggle/input/fake-news/submit.csv\n/kaggle/input/fake-news/train.csv\n/kaggle/input/fake-news/test.csv\n",
     "output_type": "stream"
    }
   ]
  },
  {
   "cell_type": "markdown",
   "source": "According to Jimmy Gomez,  **\"When fake news is repeated, it becomes difficult for the public to discern what's real \"**\n\nHence, in this notebook let's predict ✍ the fake news 📜 & keep on sharing the truth 🧾 to everyone across the universe👍",
   "metadata": {}
  },
  {
   "cell_type": "markdown",
   "source": "**IMPORTING LIBRARIES**",
   "metadata": {
    "execution": {
     "iopub.status.busy": "2022-01-30T01:24:45.526689Z",
     "iopub.execute_input": "2022-01-30T01:24:45.526955Z",
     "iopub.status.idle": "2022-01-30T01:24:45.532773Z",
     "shell.execute_reply.started": "2022-01-30T01:24:45.526921Z",
     "shell.execute_reply": "2022-01-30T01:24:45.53165Z"
    }
   }
  },
  {
   "cell_type": "code",
   "source": "import numpy as np\nimport pandas as pd\nimport re\nimport nltk\nfrom nltk.corpus import stopwords\nfrom nltk.stem.porter import PorterStemmer\nfrom sklearn.feature_extraction.text import TfidfVectorizer\nfrom sklearn.model_selection import train_test_split\nfrom sklearn.linear_model import LogisticRegression\nfrom sklearn.metrics import accuracy_score\nfrom nltk.stem.porter import PorterStemmer\nfrom sklearn.metrics import confusion_matrix\nfrom sklearn.metrics import classification_report",
   "metadata": {
    "execution": {
     "iopub.status.busy": "2024-05-11T12:48:57.911047Z",
     "iopub.execute_input": "2024-05-11T12:48:57.911295Z",
     "iopub.status.idle": "2024-05-11T12:48:59.687924Z",
     "shell.execute_reply.started": "2024-05-11T12:48:57.911265Z",
     "shell.execute_reply": "2024-05-11T12:48:59.687133Z"
    },
    "trusted": true
   },
   "execution_count": 2,
   "outputs": []
  },
  {
   "cell_type": "code",
   "source": "nltk.download('stopwords')",
   "metadata": {
    "execution": {
     "iopub.status.busy": "2024-05-11T12:48:59.689118Z",
     "iopub.execute_input": "2024-05-11T12:48:59.689567Z",
     "iopub.status.idle": "2024-05-11T12:49:19.738675Z",
     "shell.execute_reply.started": "2024-05-11T12:48:59.689534Z",
     "shell.execute_reply": "2024-05-11T12:49:19.737655Z"
    },
    "trusted": true
   },
   "execution_count": 3,
   "outputs": [
    {
     "name": "stdout",
     "text": "[nltk_data] Error loading stopwords: <urlopen error [Errno -3]\n[nltk_data]     Temporary failure in name resolution>\n",
     "output_type": "stream"
    },
    {
     "execution_count": 3,
     "output_type": "execute_result",
     "data": {
      "text/plain": "False"
     },
     "metadata": {}
    }
   ]
  },
  {
   "cell_type": "code",
   "source": "# printing the stopwords in English\nprint(stopwords.words('english'))",
   "metadata": {
    "_kg_hide-output": true,
    "execution": {
     "iopub.status.busy": "2024-05-11T12:49:19.741276Z",
     "iopub.execute_input": "2024-05-11T12:49:19.741672Z",
     "iopub.status.idle": "2024-05-11T12:49:19.753596Z",
     "shell.execute_reply.started": "2024-05-11T12:49:19.741628Z",
     "shell.execute_reply": "2024-05-11T12:49:19.752690Z"
    },
    "trusted": true
   },
   "execution_count": 4,
   "outputs": [
    {
     "name": "stdout",
     "text": "['i', 'me', 'my', 'myself', 'we', 'our', 'ours', 'ourselves', 'you', \"you're\", \"you've\", \"you'll\", \"you'd\", 'your', 'yours', 'yourself', 'yourselves', 'he', 'him', 'his', 'himself', 'she', \"she's\", 'her', 'hers', 'herself', 'it', \"it's\", 'its', 'itself', 'they', 'them', 'their', 'theirs', 'themselves', 'what', 'which', 'who', 'whom', 'this', 'that', \"that'll\", 'these', 'those', 'am', 'is', 'are', 'was', 'were', 'be', 'been', 'being', 'have', 'has', 'had', 'having', 'do', 'does', 'did', 'doing', 'a', 'an', 'the', 'and', 'but', 'if', 'or', 'because', 'as', 'until', 'while', 'of', 'at', 'by', 'for', 'with', 'about', 'against', 'between', 'into', 'through', 'during', 'before', 'after', 'above', 'below', 'to', 'from', 'up', 'down', 'in', 'out', 'on', 'off', 'over', 'under', 'again', 'further', 'then', 'once', 'here', 'there', 'when', 'where', 'why', 'how', 'all', 'any', 'both', 'each', 'few', 'more', 'most', 'other', 'some', 'such', 'no', 'nor', 'not', 'only', 'own', 'same', 'so', 'than', 'too', 'very', 's', 't', 'can', 'will', 'just', 'don', \"don't\", 'should', \"should've\", 'now', 'd', 'll', 'm', 'o', 're', 've', 'y', 'ain', 'aren', \"aren't\", 'couldn', \"couldn't\", 'didn', \"didn't\", 'doesn', \"doesn't\", 'hadn', \"hadn't\", 'hasn', \"hasn't\", 'haven', \"haven't\", 'isn', \"isn't\", 'ma', 'mightn', \"mightn't\", 'mustn', \"mustn't\", 'needn', \"needn't\", 'shan', \"shan't\", 'shouldn', \"shouldn't\", 'wasn', \"wasn't\", 'weren', \"weren't\", 'won', \"won't\", 'wouldn', \"wouldn't\"]\n",
     "output_type": "stream"
    }
   ]
  },
  {
   "cell_type": "markdown",
   "source": "**PRE PROCESSING OF DATA**",
   "metadata": {}
  },
  {
   "cell_type": "code",
   "source": "news_data = pd.read_csv('/kaggle/input/fake-news/train.csv')\nnews_data.head()",
   "metadata": {
    "execution": {
     "iopub.status.busy": "2024-05-11T12:49:19.755379Z",
     "iopub.execute_input": "2024-05-11T12:49:19.755707Z",
     "iopub.status.idle": "2024-05-11T12:49:22.688937Z",
     "shell.execute_reply.started": "2024-05-11T12:49:19.755665Z",
     "shell.execute_reply": "2024-05-11T12:49:22.688105Z"
    },
    "trusted": true
   },
   "execution_count": 5,
   "outputs": [
    {
     "execution_count": 5,
     "output_type": "execute_result",
     "data": {
      "text/plain": "   id                                              title              author  \\\n0   0  House Dem Aide: We Didn’t Even See Comey’s Let...       Darrell Lucus   \n1   1  FLYNN: Hillary Clinton, Big Woman on Campus - ...     Daniel J. Flynn   \n2   2                  Why the Truth Might Get You Fired  Consortiumnews.com   \n3   3  15 Civilians Killed In Single US Airstrike Hav...     Jessica Purkiss   \n4   4  Iranian woman jailed for fictional unpublished...      Howard Portnoy   \n\n                                                text  label  \n0  House Dem Aide: We Didn’t Even See Comey’s Let...      1  \n1  Ever get the feeling your life circles the rou...      0  \n2  Why the Truth Might Get You Fired October 29, ...      1  \n3  Videos 15 Civilians Killed In Single US Airstr...      1  \n4  Print \\nAn Iranian woman has been sentenced to...      1  ",
      "text/html": "<div>\n<style scoped>\n    .dataframe tbody tr th:only-of-type {\n        vertical-align: middle;\n    }\n\n    .dataframe tbody tr th {\n        vertical-align: top;\n    }\n\n    .dataframe thead th {\n        text-align: right;\n    }\n</style>\n<table border=\"1\" class=\"dataframe\">\n  <thead>\n    <tr style=\"text-align: right;\">\n      <th></th>\n      <th>id</th>\n      <th>title</th>\n      <th>author</th>\n      <th>text</th>\n      <th>label</th>\n    </tr>\n  </thead>\n  <tbody>\n    <tr>\n      <th>0</th>\n      <td>0</td>\n      <td>House Dem Aide: We Didn’t Even See Comey’s Let...</td>\n      <td>Darrell Lucus</td>\n      <td>House Dem Aide: We Didn’t Even See Comey’s Let...</td>\n      <td>1</td>\n    </tr>\n    <tr>\n      <th>1</th>\n      <td>1</td>\n      <td>FLYNN: Hillary Clinton, Big Woman on Campus - ...</td>\n      <td>Daniel J. Flynn</td>\n      <td>Ever get the feeling your life circles the rou...</td>\n      <td>0</td>\n    </tr>\n    <tr>\n      <th>2</th>\n      <td>2</td>\n      <td>Why the Truth Might Get You Fired</td>\n      <td>Consortiumnews.com</td>\n      <td>Why the Truth Might Get You Fired October 29, ...</td>\n      <td>1</td>\n    </tr>\n    <tr>\n      <th>3</th>\n      <td>3</td>\n      <td>15 Civilians Killed In Single US Airstrike Hav...</td>\n      <td>Jessica Purkiss</td>\n      <td>Videos 15 Civilians Killed In Single US Airstr...</td>\n      <td>1</td>\n    </tr>\n    <tr>\n      <th>4</th>\n      <td>4</td>\n      <td>Iranian woman jailed for fictional unpublished...</td>\n      <td>Howard Portnoy</td>\n      <td>Print \\nAn Iranian woman has been sentenced to...</td>\n      <td>1</td>\n    </tr>\n  </tbody>\n</table>\n</div>"
     },
     "metadata": {}
    }
   ]
  },
  {
   "cell_type": "code",
   "source": "news_data.shape",
   "metadata": {
    "execution": {
     "iopub.status.busy": "2024-05-11T12:49:22.690200Z",
     "iopub.execute_input": "2024-05-11T12:49:22.690438Z",
     "iopub.status.idle": "2024-05-11T12:49:22.696318Z",
     "shell.execute_reply.started": "2024-05-11T12:49:22.690410Z",
     "shell.execute_reply": "2024-05-11T12:49:22.695467Z"
    },
    "trusted": true
   },
   "execution_count": 6,
   "outputs": [
    {
     "execution_count": 6,
     "output_type": "execute_result",
     "data": {
      "text/plain": "(20800, 5)"
     },
     "metadata": {}
    }
   ]
  },
  {
   "cell_type": "code",
   "source": "# counting the number of missing values in the dataset\nnews_data.isnull().sum()",
   "metadata": {
    "execution": {
     "iopub.status.busy": "2024-05-11T12:49:22.697694Z",
     "iopub.execute_input": "2024-05-11T12:49:22.697998Z",
     "iopub.status.idle": "2024-05-11T12:49:22.722625Z",
     "shell.execute_reply.started": "2024-05-11T12:49:22.697965Z",
     "shell.execute_reply": "2024-05-11T12:49:22.721723Z"
    },
    "trusted": true
   },
   "execution_count": 7,
   "outputs": [
    {
     "execution_count": 7,
     "output_type": "execute_result",
     "data": {
      "text/plain": "id           0\ntitle      558\nauthor    1957\ntext        39\nlabel        0\ndtype: int64"
     },
     "metadata": {}
    }
   ]
  },
  {
   "cell_type": "code",
   "source": "# replacing the null values with empty string\nnews_data = news_data.fillna('')",
   "metadata": {
    "execution": {
     "iopub.status.busy": "2024-05-11T12:49:22.723805Z",
     "iopub.execute_input": "2024-05-11T12:49:22.724155Z",
     "iopub.status.idle": "2024-05-11T12:49:22.741122Z",
     "shell.execute_reply.started": "2024-05-11T12:49:22.724124Z",
     "shell.execute_reply": "2024-05-11T12:49:22.740384Z"
    },
    "trusted": true
   },
   "execution_count": 8,
   "outputs": []
  },
  {
   "cell_type": "code",
   "source": "# checking the number of missing values in the dataset\nnews_data.isnull().sum()",
   "metadata": {
    "execution": {
     "iopub.status.busy": "2024-05-11T12:49:22.742339Z",
     "iopub.execute_input": "2024-05-11T12:49:22.743069Z",
     "iopub.status.idle": "2024-05-11T12:49:22.760627Z",
     "shell.execute_reply.started": "2024-05-11T12:49:22.743036Z",
     "shell.execute_reply": "2024-05-11T12:49:22.759631Z"
    },
    "trusted": true
   },
   "execution_count": 9,
   "outputs": [
    {
     "execution_count": 9,
     "output_type": "execute_result",
     "data": {
      "text/plain": "id        0\ntitle     0\nauthor    0\ntext      0\nlabel     0\ndtype: int64"
     },
     "metadata": {}
    }
   ]
  },
  {
   "cell_type": "code",
   "source": "# merging the author name and news title\nnews_data['content'] = news_data['author']+' '+news_data['title']",
   "metadata": {
    "execution": {
     "iopub.status.busy": "2024-05-11T12:49:22.765939Z",
     "iopub.execute_input": "2024-05-11T12:49:22.766236Z",
     "iopub.status.idle": "2024-05-11T12:49:22.790297Z",
     "shell.execute_reply.started": "2024-05-11T12:49:22.766200Z",
     "shell.execute_reply": "2024-05-11T12:49:22.789391Z"
    },
    "trusted": true
   },
   "execution_count": 10,
   "outputs": []
  },
  {
   "cell_type": "code",
   "source": "print(news_data['content'])",
   "metadata": {
    "execution": {
     "iopub.status.busy": "2024-05-11T12:49:22.791585Z",
     "iopub.execute_input": "2024-05-11T12:49:22.791862Z",
     "iopub.status.idle": "2024-05-11T12:49:22.801067Z",
     "shell.execute_reply.started": "2024-05-11T12:49:22.791828Z",
     "shell.execute_reply": "2024-05-11T12:49:22.799615Z"
    },
    "trusted": true
   },
   "execution_count": 11,
   "outputs": [
    {
     "name": "stdout",
     "text": "0        Darrell Lucus House Dem Aide: We Didn’t Even S...\n1        Daniel J. Flynn FLYNN: Hillary Clinton, Big Wo...\n2        Consortiumnews.com Why the Truth Might Get You...\n3        Jessica Purkiss 15 Civilians Killed In Single ...\n4        Howard Portnoy Iranian woman jailed for fictio...\n                               ...                        \n20795    Jerome Hudson Rapper T.I.: Trump a ’Poster Chi...\n20796    Benjamin Hoffman N.F.L. Playoffs: Schedule, Ma...\n20797    Michael J. de la Merced and Rachel Abrams Macy...\n20798    Alex Ansary NATO, Russia To Hold Parallel Exer...\n20799              David Swanson What Keeps the F-35 Alive\nName: content, Length: 20800, dtype: object\n",
     "output_type": "stream"
    }
   ]
  },
  {
   "cell_type": "code",
   "source": "# separating the data & label\n\n## Get the Independent Features\nX = news_data.drop(columns='label', axis=1)\n## Get the Dependent features\nY = news_data['label']",
   "metadata": {
    "execution": {
     "iopub.status.busy": "2024-05-11T12:49:22.802095Z",
     "iopub.execute_input": "2024-05-11T12:49:22.802323Z",
     "iopub.status.idle": "2024-05-11T12:49:22.822270Z",
     "shell.execute_reply.started": "2024-05-11T12:49:22.802289Z",
     "shell.execute_reply": "2024-05-11T12:49:22.821566Z"
    },
    "trusted": true
   },
   "execution_count": 12,
   "outputs": []
  },
  {
   "cell_type": "code",
   "source": "Y.value_counts()",
   "metadata": {
    "execution": {
     "iopub.status.busy": "2024-05-11T12:49:22.823255Z",
     "iopub.execute_input": "2024-05-11T12:49:22.823834Z",
     "iopub.status.idle": "2024-05-11T12:49:22.834085Z",
     "shell.execute_reply.started": "2024-05-11T12:49:22.823792Z",
     "shell.execute_reply": "2024-05-11T12:49:22.832826Z"
    },
    "trusted": true
   },
   "execution_count": 13,
   "outputs": [
    {
     "execution_count": 13,
     "output_type": "execute_result",
     "data": {
      "text/plain": "1    10413\n0    10387\nName: label, dtype: int64"
     },
     "metadata": {}
    }
   ]
  },
  {
   "cell_type": "code",
   "source": "X.shape",
   "metadata": {
    "execution": {
     "iopub.status.busy": "2024-05-11T12:49:22.835740Z",
     "iopub.execute_input": "2024-05-11T12:49:22.836202Z",
     "iopub.status.idle": "2024-05-11T12:49:22.843150Z",
     "shell.execute_reply.started": "2024-05-11T12:49:22.836156Z",
     "shell.execute_reply": "2024-05-11T12:49:22.842152Z"
    },
    "trusted": true
   },
   "execution_count": 14,
   "outputs": [
    {
     "execution_count": 14,
     "output_type": "execute_result",
     "data": {
      "text/plain": "(20800, 5)"
     },
     "metadata": {}
    }
   ]
  },
  {
   "cell_type": "code",
   "source": "Y.shape",
   "metadata": {
    "execution": {
     "iopub.status.busy": "2024-05-11T12:49:22.844610Z",
     "iopub.execute_input": "2024-05-11T12:49:22.844841Z",
     "iopub.status.idle": "2024-05-11T12:49:22.858333Z",
     "shell.execute_reply.started": "2024-05-11T12:49:22.844813Z",
     "shell.execute_reply": "2024-05-11T12:49:22.857732Z"
    },
    "trusted": true
   },
   "execution_count": 15,
   "outputs": [
    {
     "execution_count": 15,
     "output_type": "execute_result",
     "data": {
      "text/plain": "(20800,)"
     },
     "metadata": {}
    }
   ]
  },
  {
   "cell_type": "code",
   "source": "print(X)\nprint(Y)",
   "metadata": {
    "_kg_hide-output": true,
    "execution": {
     "iopub.status.busy": "2024-05-11T12:49:22.859502Z",
     "iopub.execute_input": "2024-05-11T12:49:22.859757Z",
     "iopub.status.idle": "2024-05-11T12:49:22.876848Z",
     "shell.execute_reply.started": "2024-05-11T12:49:22.859726Z",
     "shell.execute_reply": "2024-05-11T12:49:22.875774Z"
    },
    "trusted": true
   },
   "execution_count": 16,
   "outputs": [
    {
     "name": "stdout",
     "text": "          id                                              title  \\\n0          0  House Dem Aide: We Didn’t Even See Comey’s Let...   \n1          1  FLYNN: Hillary Clinton, Big Woman on Campus - ...   \n2          2                  Why the Truth Might Get You Fired   \n3          3  15 Civilians Killed In Single US Airstrike Hav...   \n4          4  Iranian woman jailed for fictional unpublished...   \n...      ...                                                ...   \n20795  20795  Rapper T.I.: Trump a ’Poster Child For White S...   \n20796  20796  N.F.L. Playoffs: Schedule, Matchups and Odds -...   \n20797  20797  Macy’s Is Said to Receive Takeover Approach by...   \n20798  20798  NATO, Russia To Hold Parallel Exercises In Bal...   \n20799  20799                          What Keeps the F-35 Alive   \n\n                                          author  \\\n0                                  Darrell Lucus   \n1                                Daniel J. Flynn   \n2                             Consortiumnews.com   \n3                                Jessica Purkiss   \n4                                 Howard Portnoy   \n...                                          ...   \n20795                              Jerome Hudson   \n20796                           Benjamin Hoffman   \n20797  Michael J. de la Merced and Rachel Abrams   \n20798                                Alex Ansary   \n20799                              David Swanson   \n\n                                                    text  \\\n0      House Dem Aide: We Didn’t Even See Comey’s Let...   \n1      Ever get the feeling your life circles the rou...   \n2      Why the Truth Might Get You Fired October 29, ...   \n3      Videos 15 Civilians Killed In Single US Airstr...   \n4      Print \\nAn Iranian woman has been sentenced to...   \n...                                                  ...   \n20795  Rapper T. I. unloaded on black celebrities who...   \n20796  When the Green Bay Packers lost to the Washing...   \n20797  The Macy’s of today grew from the union of sev...   \n20798  NATO, Russia To Hold Parallel Exercises In Bal...   \n20799    David Swanson is an author, activist, journa...   \n\n                                                 content  \n0      Darrell Lucus House Dem Aide: We Didn’t Even S...  \n1      Daniel J. Flynn FLYNN: Hillary Clinton, Big Wo...  \n2      Consortiumnews.com Why the Truth Might Get You...  \n3      Jessica Purkiss 15 Civilians Killed In Single ...  \n4      Howard Portnoy Iranian woman jailed for fictio...  \n...                                                  ...  \n20795  Jerome Hudson Rapper T.I.: Trump a ’Poster Chi...  \n20796  Benjamin Hoffman N.F.L. Playoffs: Schedule, Ma...  \n20797  Michael J. de la Merced and Rachel Abrams Macy...  \n20798  Alex Ansary NATO, Russia To Hold Parallel Exer...  \n20799            David Swanson What Keeps the F-35 Alive  \n\n[20800 rows x 5 columns]\n0        1\n1        0\n2        1\n3        1\n4        1\n        ..\n20795    0\n20796    0\n20797    0\n20798    1\n20799    1\nName: label, Length: 20800, dtype: int64\n",
     "output_type": "stream"
    }
   ]
  },
  {
   "cell_type": "markdown",
   "source": "**STEMMING:**\n\n* A stemming algorithm is a process of linguistic normalisation, in which the variant forms of a word are reduced to a common form.\n* In simple words, Stemming is the process of reducing a word to its Root word.\n\n* **EXAMPLES:** \n\n  1. actor, actress, acting --> act\n  2. eating, eats, eaten --> eat",
   "metadata": {}
  },
  {
   "cell_type": "code",
   "source": "port_stem = PorterStemmer()",
   "metadata": {
    "execution": {
     "iopub.status.busy": "2024-05-11T12:49:22.877861Z",
     "iopub.execute_input": "2024-05-11T12:49:22.878414Z",
     "iopub.status.idle": "2024-05-11T12:49:22.881627Z",
     "shell.execute_reply.started": "2024-05-11T12:49:22.878382Z",
     "shell.execute_reply": "2024-05-11T12:49:22.881039Z"
    },
    "trusted": true
   },
   "execution_count": 17,
   "outputs": []
  },
  {
   "cell_type": "code",
   "source": "def stemming(content):\n    review = re.sub('[^a-zA-Z]',' ',content)\n    review = review.lower()\n    review = review.split()\n    review = [port_stem.stem(word) for word in review if not word in stopwords.words('english')]\n    review = ' '.join(review)\n    return review",
   "metadata": {
    "execution": {
     "iopub.status.busy": "2024-05-11T12:49:22.882838Z",
     "iopub.execute_input": "2024-05-11T12:49:22.883188Z",
     "iopub.status.idle": "2024-05-11T12:49:22.892785Z",
     "shell.execute_reply.started": "2024-05-11T12:49:22.883158Z",
     "shell.execute_reply": "2024-05-11T12:49:22.891949Z"
    },
    "trusted": true
   },
   "execution_count": 18,
   "outputs": []
  },
  {
   "cell_type": "code",
   "source": "news_data['content'] = news_data['content'].apply(stemming)",
   "metadata": {
    "execution": {
     "iopub.status.busy": "2024-05-11T12:49:22.893924Z",
     "iopub.execute_input": "2024-05-11T12:49:22.894308Z"
    },
    "trusted": true
   },
   "execution_count": null,
   "outputs": []
  },
  {
   "cell_type": "code",
   "source": "print(news_data['content'])",
   "metadata": {
    "trusted": true
   },
   "execution_count": null,
   "outputs": []
  },
  {
   "cell_type": "code",
   "source": "#separating the data and label\nX = news_data['content'].values\nY = news_data['label'].values",
   "metadata": {
    "trusted": true
   },
   "execution_count": null,
   "outputs": []
  },
  {
   "cell_type": "code",
   "source": "print(X)",
   "metadata": {
    "trusted": true
   },
   "execution_count": null,
   "outputs": []
  },
  {
   "cell_type": "code",
   "source": "print(Y)",
   "metadata": {
    "trusted": true
   },
   "execution_count": null,
   "outputs": []
  },
  {
   "cell_type": "code",
   "source": "Y.shape",
   "metadata": {
    "trusted": true
   },
   "execution_count": null,
   "outputs": []
  },
  {
   "cell_type": "markdown",
   "source": "**TF-IDF stands for “Term Frequency – Inverse Document Frequency ”**\n\n* TF-IDF is a numerical statistic which measures the importance of the word in a document.\n\n* Term Frequency : Number of time a word appears in a text document.\n* Inverse Document Frequency : Measure the word is a rare word or common word in a document.",
   "metadata": {}
  },
  {
   "cell_type": "code",
   "source": "# converting the textual data to numerical data\nvectorizer = TfidfVectorizer()\nvectorizer.fit(X)\nX = vectorizer.transform(X)",
   "metadata": {
    "trusted": true
   },
   "execution_count": null,
   "outputs": []
  },
  {
   "cell_type": "code",
   "source": "print(X)",
   "metadata": {
    "_kg_hide-output": true,
    "trusted": true
   },
   "execution_count": null,
   "outputs": []
  },
  {
   "cell_type": "markdown",
   "source": "**SPLITTING THE DATASET INTO TRAINING DATA & TEST DATA:**",
   "metadata": {}
  },
  {
   "cell_type": "code",
   "source": "X_train, X_test, Y_train, Y_test = train_test_split(X, Y, test_size = 0.2, stratify=Y, random_state=2)",
   "metadata": {
    "trusted": true
   },
   "execution_count": null,
   "outputs": []
  },
  {
   "cell_type": "markdown",
   "source": "**LOGESTIC REGRESSION:**\n\nLogistic regression is a statistical analysis method to predict a binary outcome, such as yes or no, based on prior observations of a data set. A logistic regression model predicts a dependent data variable by analyzing the relationship between one or more existing independent variables.",
   "metadata": {}
  },
  {
   "cell_type": "code",
   "source": "model = LogisticRegression()",
   "metadata": {
    "trusted": true
   },
   "execution_count": null,
   "outputs": []
  },
  {
   "cell_type": "code",
   "source": "model.fit(X_train, Y_train)",
   "metadata": {
    "trusted": true
   },
   "execution_count": null,
   "outputs": []
  },
  {
   "cell_type": "code",
   "source": "# accuracy score on the training data\nX_train_prediction = model.predict(X_train)\ntraining_data_accuracy = accuracy_score(X_train_prediction, Y_train)",
   "metadata": {
    "trusted": true
   },
   "execution_count": null,
   "outputs": []
  },
  {
   "cell_type": "code",
   "source": "print('Accuracy score of the training data : ', training_data_accuracy)",
   "metadata": {
    "trusted": true
   },
   "execution_count": null,
   "outputs": []
  },
  {
   "cell_type": "code",
   "source": "# accuracy score on the test data\nX_test_prediction = model.predict(X_test)\ntest_data_accuracy = accuracy_score(X_test_prediction, Y_test)",
   "metadata": {
    "trusted": true
   },
   "execution_count": null,
   "outputs": []
  },
  {
   "cell_type": "code",
   "source": "print('Accuracy score of the test data : ', test_data_accuracy)",
   "metadata": {
    "trusted": true
   },
   "execution_count": null,
   "outputs": []
  },
  {
   "cell_type": "markdown",
   "source": "**CONFUSION MATRIX:**\n\n* The confusion matrix is a 2 dimensional array comparing predicted category labels to the true label. \n\n",
   "metadata": {}
  },
  {
   "cell_type": "code",
   "source": "import matplotlib.pyplot as plt\n\ndef plot_confusion_matrix(cm, classes,\n                          normalize=False,\n                          title='Confusion matrix',\n                          cmap=plt.cm.Purples):\n    plt.imshow(cm, interpolation='nearest', cmap=cmap)\n    plt.title(title)\n    plt.colorbar()\n    tick_marks = np.arange(len(classes))\n    plt.xticks(tick_marks, classes, rotation=45)\n    plt.yticks(tick_marks, classes)\n\n    if normalize:\n        cm = cm.astype('float') / cm.sum(axis=1)[:, np.newaxis]\n        print(\"Normalized confusion matrix\")\n    else:\n        print('Confusion matrix, without normalization')\n\n    thresh = cm.max() / 2.\n    for i, j in itertools.product(range(cm.shape[0]), range(cm.shape[1])):\n        plt.text(j, i, cm[i, j],\n                 horizontalalignment=\"center\",\n                 color=\"white\" if cm[i, j] > thresh else \"black\")\n\n    plt.tight_layout()\n    plt.ylabel('True label')\n    plt.xlabel('Predicted label')\n\n\n        \n\n    \n    ",
   "metadata": {
    "trusted": true
   },
   "execution_count": null,
   "outputs": []
  },
  {
   "cell_type": "code",
   "source": "X1_train, X1_test, Y1_train, Y1_test = train_test_split(X, Y, test_size=0.33, random_state=42)",
   "metadata": {
    "trusted": true
   },
   "execution_count": null,
   "outputs": []
  },
  {
   "cell_type": "markdown",
   "source": "**CLASSIFICATION MODEL : MULTINOMIAL NAIVE BAYES**\n\n* Multinomial Naive Bayes algorithm is a probabilistic learning method that is mostly used in Natural Language Processing (NLP)\n\n* Multinomial Naïve Bayes uses term frequency i.e. the number of times a given term appears in a document. Term frequency is often normalized by dividing the raw term frequency by the document length\n",
   "metadata": {}
  },
  {
   "cell_type": "code",
   "source": "#let's implement the model : Multinomial Naive Bayes\nfrom sklearn.naive_bayes import MultinomialNB\nclassifier=MultinomialNB()",
   "metadata": {
    "trusted": true
   },
   "execution_count": null,
   "outputs": []
  },
  {
   "cell_type": "code",
   "source": "from sklearn import metrics\nimport numpy as np\nimport itertools\n\nclassifier.fit(X1_train, Y1_train)\nprediction1 = classifier.predict(X1_test)\nscore = metrics.accuracy_score(Y1_test, prediction1)\nprint(\"accuracy:   %0.3f\" % score)\ncm1 = metrics.confusion_matrix(Y1_test, prediction1)\nplot_confusion_matrix(cm1, classes=['FAKE', 'REAL'])",
   "metadata": {
    "trusted": true
   },
   "execution_count": null,
   "outputs": []
  },
  {
   "cell_type": "markdown",
   "source": "**CLASSIFICATION MODEL : PASSIVE AGGRESSIVE CLASSIFIER**\n\n* Passive Aggressive Classifier works by responding as passive for correct classifications and responding as aggressive for any miscalculation.",
   "metadata": {}
  },
  {
   "cell_type": "code",
   "source": "X2_train, X2_test, Y2_train, Y2_test = train_test_split(X, Y, test_size=0.33, random_state=42)",
   "metadata": {
    "trusted": true
   },
   "execution_count": null,
   "outputs": []
  },
  {
   "cell_type": "code",
   "source": "#lets implemet the algorithm : Passive Aggressive Classifier\nfrom sklearn.linear_model import PassiveAggressiveClassifier\nlinear_clf = PassiveAggressiveClassifier(max_iter=50)\n\nlinear_clf.fit(X2_train, Y2_train)\nprediction2 = linear_clf.predict(X2_test)\nscore = metrics.accuracy_score(Y2_test, prediction2)\nprint(\"accuracy:   %0.3f\" % score)\ncm2 = metrics.confusion_matrix(Y2_test, prediction2)\nplot_confusion_matrix(cm2, classes=['FAKE Data', 'REAL Data'])",
   "metadata": {
    "trusted": true
   },
   "execution_count": null,
   "outputs": []
  },
  {
   "cell_type": "markdown",
   "source": "**BUILDING A PREDICTIVE SYSTEM:**",
   "metadata": {}
  },
  {
   "cell_type": "markdown",
   "source": "Building a predictive system inorder to find that the inital word in the dataset is real or fake using LogisticRegression model: ",
   "metadata": {}
  },
  {
   "cell_type": "code",
   "source": "X_new = X_test[0]\n\nprediction = model.predict(X_new)\nprint(prediction)\n\nif (prediction[0]==0):\n  print('The news is Real')\nelse:\n  print('The news is Fake')",
   "metadata": {
    "trusted": true
   },
   "execution_count": null,
   "outputs": []
  },
  {
   "cell_type": "code",
   "source": "print(Y_test[0])",
   "metadata": {
    "trusted": true
   },
   "execution_count": null,
   "outputs": []
  },
  {
   "cell_type": "markdown",
   "source": "Building a predictive system inorder to find that the inital word in the dataset is real or fake using Multinomial Naive Bayes model: ",
   "metadata": {}
  },
  {
   "cell_type": "code",
   "source": "X1_new = X1_test[0]\n\nprediction = model.predict(X1_new)\nprint(prediction)\n\nif (prediction[0]==0):\n  print('The news is Real')\nelse:\n  print('The news is Fake')",
   "metadata": {
    "trusted": true
   },
   "execution_count": null,
   "outputs": []
  },
  {
   "cell_type": "code",
   "source": "print(Y1_test[0])",
   "metadata": {
    "trusted": true
   },
   "execution_count": null,
   "outputs": []
  },
  {
   "cell_type": "markdown",
   "source": "Building a predictive system inorder to find that the inital word in the dataset is real or fake using Passive Aggressive Classifier: ",
   "metadata": {}
  },
  {
   "cell_type": "code",
   "source": "X2_new = X2_test[0]\n\nprediction = model.predict(X2_new)\nprint(prediction)\n\nif (prediction[0]==0):\n  print('The news is Real')\nelse:\n  print('The news is Fake')",
   "metadata": {
    "trusted": true
   },
   "execution_count": null,
   "outputs": []
  },
  {
   "cell_type": "code",
   "source": "print(Y2_test[0])",
   "metadata": {
    "trusted": true
   },
   "execution_count": null,
   "outputs": []
  },
  {
   "cell_type": "markdown",
   "source": "**CLASSIFICATION REPORT:**\n\n* A Classification report is used to measure the quality of predictions from a classification algorithm.\n\n* It is used to show the precision, recall, F1 Score, and support of your trained classification model.",
   "metadata": {}
  },
  {
   "cell_type": "markdown",
   "source": "Classification report for logistic regression model:",
   "metadata": {}
  },
  {
   "cell_type": "code",
   "source": "from sklearn.metrics import classification_report\nprint(classification_report(Y_test, X_test_prediction))",
   "metadata": {
    "trusted": true
   },
   "execution_count": null,
   "outputs": []
  },
  {
   "cell_type": "code",
   "source": "from sklearn.metrics import classification_report\nprint(classification_report(Y1_test,prediction1))",
   "metadata": {
    "trusted": true
   },
   "execution_count": null,
   "outputs": []
  },
  {
   "cell_type": "code",
   "source": "from sklearn.metrics import classification_report\nprint(classification_report(Y2_test,prediction2))",
   "metadata": {
    "trusted": true
   },
   "execution_count": null,
   "outputs": []
  },
  {
   "cell_type": "markdown",
   "source": "**MODEL COMPARISON**\n\nHence, in this dataset we can observe that\n\n* Logistic Regression : Accuracy is 0.98\n\n* Multinomial Naive Bayes : Accuracy is 0.95\n\n* Passive Aggressive Classifier : Accuracy is 0.99",
   "metadata": {}
  },
  {
   "cell_type": "code",
   "source": "print(\"Successfully we have predicted the fake news using logistic regression, Multinomial Naive Bayes & Passive Aggressive Classifier \")",
   "metadata": {
    "trusted": true
   },
   "execution_count": null,
   "outputs": []
  },
  {
   "cell_type": "markdown",
   "source": "According to Dr.Karishma Ahuja, \"**Speak your truth, Speaking your truth is an act of loving & respecting yourself**\"\n\n**Hence let's speak truth & every glittering ounce of it will be cherished,  hoarded, worshipped & fondled like a priceless diamond !!**",
   "metadata": {}
  }
 ]
}
